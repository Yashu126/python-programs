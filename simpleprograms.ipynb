{
 "cells": [
  {
   "cell_type": "markdown",
   "id": "89fac8e3",
   "metadata": {},
   "source": [
    "# Even and odd"
   ]
  },
  {
   "cell_type": "code",
   "execution_count": 9,
   "id": "32870b96",
   "metadata": {},
   "outputs": [
    {
     "name": "stdout",
     "output_type": "stream",
     "text": [
      "Enter a number: 5\n",
      "5 is a odd number\n"
     ]
    }
   ],
   "source": [
    "#  using  if else \n",
    "num = int(input('Enter a number: '))\n",
    "if (num%2==0):\n",
    "    print(num, 'is a even number')\n",
    "else:\n",
    "    print(num, 'is a odd number')\n"
   ]
  },
  {
   "cell_type": "code",
   "execution_count": 13,
   "id": "6a193363",
   "metadata": {},
   "outputs": [
    {
     "name": "stdout",
     "output_type": "stream",
     "text": [
      "Enter a number: 8\n",
      "8 is a Even number\n"
     ]
    }
   ],
   "source": [
    "#using Bitwise operator\n",
    "n = int(input('Enter a number: '))\n",
    "if n & 1:\n",
    "    print(n, 'is a odd number')\n",
    "else:\n",
    "    print(n, 'is a Even number')"
   ]
  },
  {
   "cell_type": "code",
   "execution_count": 4,
   "id": "2a311ea5",
   "metadata": {},
   "outputs": [
    {
     "name": "stdout",
     "output_type": "stream",
     "text": [
      "Enter a number8\n",
      "8 is a Even number\n"
     ]
    }
   ],
   "source": [
    "# using Recursion\n",
    "def check(number):\n",
    "    if (number<2):\n",
    "        return (number%2==0)\n",
    "    return (check(number-2))\n",
    "\n",
    "number = int(input('Enter a number: '))\n",
    "\n",
    "if (check(number) == True):\n",
    "    print(number, 'is a Even number')\n",
    "else:\n",
    "    print(number, 'is a Odd number')"
   ]
  },
  {
   "cell_type": "markdown",
   "id": "5f5d352f",
   "metadata": {},
   "source": [
    "# positive negative numbers\n"
   ]
  },
  {
   "cell_type": "code",
   "execution_count": 4,
   "id": "feda439b",
   "metadata": {},
   "outputs": [
    {
     "name": "stdout",
     "output_type": "stream",
     "text": [
      "-8\n",
      "-8 is a negative number\n"
     ]
    }
   ],
   "source": [
    "number = int(input('Enter an integer: '))\n",
    "if (number>0):\n",
    "    print(number, 'is a positive number')\n",
    "elif (number<0):\n",
    "    print(number, 'is a negative number')\n",
    "else:\n",
    "    print('Zero')"
   ]
  },
  {
   "cell_type": "markdown",
   "id": "8378ef73",
   "metadata": {},
   "source": [
    "\n",
    "# N to M odd numbers"
   ]
  },
  {
   "cell_type": "code",
   "execution_count": 6,
   "id": "b0572ed6",
   "metadata": {},
   "outputs": [
    {
     "name": "stdout",
     "output_type": "stream",
     "text": [
      "Enter a lower range Number: 2\n",
      "Enter a higer range Number: 10\n",
      "3\n",
      "5\n",
      "7\n",
      "9\n"
     ]
    }
   ],
   "source": [
    "n = int(input('Enter a lower range Number: '))\n",
    "m = int(input('Enter a higer range Number: '))\n",
    "for i in range(n, m+1):\n",
    "    if(i%2!=0):\n",
    "        print(i)"
   ]
  },
  {
   "cell_type": "code",
   "execution_count": null,
   "id": "d7b17365",
   "metadata": {},
   "outputs": [],
   "source": []
  }
 ],
 "metadata": {
  "kernelspec": {
   "display_name": "Python 3 (ipykernel)",
   "language": "python",
   "name": "python3"
  },
  "language_info": {
   "codemirror_mode": {
    "name": "ipython",
    "version": 3
   },
   "file_extension": ".py",
   "mimetype": "text/x-python",
   "name": "python",
   "nbconvert_exporter": "python",
   "pygments_lexer": "ipython3",
   "version": "3.10.9"
  }
 },
 "nbformat": 4,
 "nbformat_minor": 5
}
