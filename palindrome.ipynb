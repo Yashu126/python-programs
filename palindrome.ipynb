{
 "cells": [
  {
   "cell_type": "markdown",
   "id": "052e32db",
   "metadata": {},
   "source": [
    "# palindrome"
   ]
  },
  {
   "cell_type": "code",
   "execution_count": 5,
   "id": "ac81a9f3",
   "metadata": {},
   "outputs": [
    {
     "name": "stdout",
     "output_type": "stream",
     "text": [
      "Enter a number to check the number is palindrome or not : 152\n",
      "152 is not a palindrome\n"
     ]
    }
   ],
   "source": [
    "#  Palindrome Program in Python using While Loop\n",
    "num = int(input('Enter a number to check the number is palindrome or not : '))\n",
    "temp = num\n",
    "rev_no = 0\n",
    "while(num>0):\n",
    "    digit = num%10\n",
    "    rev_no = rev_no * 10 + digit\n",
    "    num= num//10\n",
    "if (temp== rev_no):\n",
    "    print(temp, 'is a palindrome')\n",
    "else:\n",
    "    print(temp, 'is not a palindrome')"
   ]
  },
  {
   "cell_type": "code",
   "execution_count": 10,
   "id": "8f9a420f",
   "metadata": {},
   "outputs": [
    {
     "name": "stdout",
     "output_type": "stream",
     "text": [
      "Enter a number to check the number is palindrome or not : 141\n",
      "141 is a palindrome\n"
     ]
    }
   ],
   "source": [
    "# Palindrome in Python using Built-in Function\n",
    "def checkPalindrome(num1):\n",
    "    return str(num1) == \"\".join(reversed(str(num1)))\n",
    "num1 = int(input('Enter a number to check the number is palindrome or not : '))\n",
    "\n",
    "if checkPalindrome(num1):\n",
    "    print(num1, 'is a palindrome')\n",
    "else:\n",
    "    print(num1, 'is not a palindrome')"
   ]
  },
  {
   "cell_type": "code",
   "execution_count": 12,
   "id": "1e7626cb",
   "metadata": {},
   "outputs": [
    {
     "name": "stdout",
     "output_type": "stream",
     "text": [
      "Enter a number to check the number is palindrome or not : 143\n",
      "The number is not a palindrome\n"
     ]
    }
   ],
   "source": [
    "#  Palindrome in Python using Recursion\n",
    "def is_palindrome(num2, temp, rev= 0):\n",
    "    if num2 == 0:\n",
    "        if temp == rev:\n",
    "            return 'The number is Palindrome'\n",
    "        else:\n",
    "            return 'The number is not a palindrome'\n",
    "    else:\n",
    "        digit = num2%10\n",
    "        rev = rev * 10 + digit\n",
    "        num2 = num2//10\n",
    "        return is_palindrome(num2, temp, rev)\n",
    "    \n",
    "num2= int(input('Enter a number to check the number is palindrome or not : '))\n",
    "result = is_palindrome(num2, num2)\n",
    "print(result)"
   ]
  },
  {
   "cell_type": "code",
   "execution_count": 14,
   "id": "07aa558d",
   "metadata": {},
   "outputs": [
    {
     "name": "stdout",
     "output_type": "stream",
     "text": [
      "entera number : 141\n",
      "141 is a palindrome\n"
     ]
    }
   ],
   "source": [
    "# Palindrome in Python using Slicing\n",
    "def check_palindrome(num3):\n",
    "    num_str = str(num3)\n",
    "    rev_str = num_str[::-1]\n",
    "    return num_str == rev_str\n",
    "\n",
    "num3 = int(input('entera number : '))\n",
    "if check_palindrome(num3):\n",
    "    print(num3, 'is a palindrome')\n",
    "else:\n",
    "    print(num3, 'is not a palindrome')"
   ]
  },
  {
   "cell_type": "markdown",
   "id": "2e2caf91",
   "metadata": {},
   "source": [
    "# Reverse a number"
   ]
  },
  {
   "cell_type": "code",
   "execution_count": 16,
   "id": "4533dc4b",
   "metadata": {},
   "outputs": [
    {
     "name": "stdout",
     "output_type": "stream",
     "text": [
      "Enter a number to be reversed : 1448\n",
      "Reversed number of  1448 is 8441\n"
     ]
    }
   ],
   "source": [
    "#  Reverse a Number in Python using Slice Operator\n",
    "num4 = int(input('Enter a number to be reversed : '))\n",
    "rev_str = int(str(num4)[::-1])\n",
    "print('Reversed number of ',num4,'is', rev_str)"
   ]
  },
  {
   "cell_type": "code",
   "execution_count": 19,
   "id": "95cc41fc",
   "metadata": {},
   "outputs": [
    {
     "name": "stdout",
     "output_type": "stream",
     "text": [
      "Enter a number to be reversed : 94508\n",
      "Reversed number is  80549\n"
     ]
    }
   ],
   "source": [
    "# Reverse a Number in Python using While Loop\n",
    "num5 = int(input('Enter a number to be reversed : '))\n",
    "rev_nm= 0\n",
    "while(num5>0):\n",
    "    dig= num5%10\n",
    "    rev_nm = rev_nm * 10 + dig\n",
    "    num5= num5//10\n",
    "print('Reversed number is ', rev_nm)"
   ]
  },
  {
   "cell_type": "code",
   "execution_count": null,
   "id": "9b054d48",
   "metadata": {},
   "outputs": [],
   "source": []
  }
 ],
 "metadata": {
  "kernelspec": {
   "display_name": "Python 3 (ipykernel)",
   "language": "python",
   "name": "python3"
  },
  "language_info": {
   "codemirror_mode": {
    "name": "ipython",
    "version": 3
   },
   "file_extension": ".py",
   "mimetype": "text/x-python",
   "name": "python",
   "nbconvert_exporter": "python",
   "pygments_lexer": "ipython3",
   "version": "3.10.9"
  }
 },
 "nbformat": 4,
 "nbformat_minor": 5
}
